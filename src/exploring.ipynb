{
 "metadata": {
  "language_info": {
   "codemirror_mode": {
    "name": "ipython",
    "version": 3
   },
   "file_extension": ".py",
   "mimetype": "text/x-python",
   "name": "python",
   "nbconvert_exporter": "python",
   "pygments_lexer": "ipython3",
   "version": "3.6.2"
  },
  "orig_nbformat": 4,
  "kernelspec": {
   "name": "python3",
   "display_name": "Python 3.6.2 64-bit ('MACHINE LEARNING': conda)"
  },
  "interpreter": {
   "hash": "bafd9a389957e655fc4a14100b8046fbffdd0d44d41b67e95b7e280b879e2e60"
  }
 },
 "nbformat": 4,
 "nbformat_minor": 2,
 "cells": [
  {
   "cell_type": "code",
   "execution_count": 6,
   "metadata": {},
   "outputs": [
    {
     "output_type": "execute_result",
     "data": {
      "text/plain": [
       "                                    address  year  day  length     weight  \\\n",
       "0         111K8kZAEnJg245r2cM6y9zgJGHZtJPy6  2017   11      18   0.008333   \n",
       "1        1123pJv8jzeFQaCV4w644pzQJzVWay2zcA  2016  132      44   0.000244   \n",
       "2        112536im7hy6wtKbpH1qYDWtTyMRAcA2p7  2016  246       0   1.000000   \n",
       "3        1126eDRw2wqSkWosjTCre8cjjQW8sSeWH7  2016  322      72   0.003906   \n",
       "4        1129TSjKtx65E35GiUo4AYVeyo48twbrGX  2016  238     144   0.072848   \n",
       "...                                     ...   ...  ...     ...        ...   \n",
       "2916692  12D3trgho1vJ4mGtWBRPyHdMJK96TRYSry  2018  330       0   0.111111   \n",
       "2916693  1P7PputTcVkhXBmXBvSD9MJ3UYPsiou1u2  2018  330       0   1.000000   \n",
       "2916694  1KYiKJEfdJtap9QX2v9BXJMpz2SfU4pgZw  2018  330       2  12.000000   \n",
       "2916695  15iPUJsRNZQZHmZZVwmQ63srsmughCXV4a  2018  330       0   0.500000   \n",
       "2916696  3LFFBxp15h9KSFtaw55np8eP5fv6kdK17e  2018  330     144   0.073972   \n",
       "\n",
       "         count  looped  neighbors        income            label  \n",
       "0            1       0          2  1.000500e+08  princetonCerber  \n",
       "1            1       0          1  1.000000e+08   princetonLocky  \n",
       "2            1       0          2  2.000000e+08  princetonCerber  \n",
       "3            1       0          2  7.120000e+07  princetonCerber  \n",
       "4          456       0          1  2.000000e+08   princetonLocky  \n",
       "...        ...     ...        ...           ...              ...  \n",
       "2916692      1       0          1  1.255809e+09            white  \n",
       "2916693      1       0          1  4.409699e+07            white  \n",
       "2916694      6       6         35  2.398267e+09            white  \n",
       "2916695      1       0          1  1.780427e+08            white  \n",
       "2916696   6800       0          2  1.123500e+08            white  \n",
       "\n",
       "[2916697 rows x 10 columns]"
      ],
      "text/html": "<div>\n<style scoped>\n    .dataframe tbody tr th:only-of-type {\n        vertical-align: middle;\n    }\n\n    .dataframe tbody tr th {\n        vertical-align: top;\n    }\n\n    .dataframe thead th {\n        text-align: right;\n    }\n</style>\n<table border=\"1\" class=\"dataframe\">\n  <thead>\n    <tr style=\"text-align: right;\">\n      <th></th>\n      <th>address</th>\n      <th>year</th>\n      <th>day</th>\n      <th>length</th>\n      <th>weight</th>\n      <th>count</th>\n      <th>looped</th>\n      <th>neighbors</th>\n      <th>income</th>\n      <th>label</th>\n    </tr>\n  </thead>\n  <tbody>\n    <tr>\n      <th>0</th>\n      <td>111K8kZAEnJg245r2cM6y9zgJGHZtJPy6</td>\n      <td>2017</td>\n      <td>11</td>\n      <td>18</td>\n      <td>0.008333</td>\n      <td>1</td>\n      <td>0</td>\n      <td>2</td>\n      <td>1.000500e+08</td>\n      <td>princetonCerber</td>\n    </tr>\n    <tr>\n      <th>1</th>\n      <td>1123pJv8jzeFQaCV4w644pzQJzVWay2zcA</td>\n      <td>2016</td>\n      <td>132</td>\n      <td>44</td>\n      <td>0.000244</td>\n      <td>1</td>\n      <td>0</td>\n      <td>1</td>\n      <td>1.000000e+08</td>\n      <td>princetonLocky</td>\n    </tr>\n    <tr>\n      <th>2</th>\n      <td>112536im7hy6wtKbpH1qYDWtTyMRAcA2p7</td>\n      <td>2016</td>\n      <td>246</td>\n      <td>0</td>\n      <td>1.000000</td>\n      <td>1</td>\n      <td>0</td>\n      <td>2</td>\n      <td>2.000000e+08</td>\n      <td>princetonCerber</td>\n    </tr>\n    <tr>\n      <th>3</th>\n      <td>1126eDRw2wqSkWosjTCre8cjjQW8sSeWH7</td>\n      <td>2016</td>\n      <td>322</td>\n      <td>72</td>\n      <td>0.003906</td>\n      <td>1</td>\n      <td>0</td>\n      <td>2</td>\n      <td>7.120000e+07</td>\n      <td>princetonCerber</td>\n    </tr>\n    <tr>\n      <th>4</th>\n      <td>1129TSjKtx65E35GiUo4AYVeyo48twbrGX</td>\n      <td>2016</td>\n      <td>238</td>\n      <td>144</td>\n      <td>0.072848</td>\n      <td>456</td>\n      <td>0</td>\n      <td>1</td>\n      <td>2.000000e+08</td>\n      <td>princetonLocky</td>\n    </tr>\n    <tr>\n      <th>...</th>\n      <td>...</td>\n      <td>...</td>\n      <td>...</td>\n      <td>...</td>\n      <td>...</td>\n      <td>...</td>\n      <td>...</td>\n      <td>...</td>\n      <td>...</td>\n      <td>...</td>\n    </tr>\n    <tr>\n      <th>2916692</th>\n      <td>12D3trgho1vJ4mGtWBRPyHdMJK96TRYSry</td>\n      <td>2018</td>\n      <td>330</td>\n      <td>0</td>\n      <td>0.111111</td>\n      <td>1</td>\n      <td>0</td>\n      <td>1</td>\n      <td>1.255809e+09</td>\n      <td>white</td>\n    </tr>\n    <tr>\n      <th>2916693</th>\n      <td>1P7PputTcVkhXBmXBvSD9MJ3UYPsiou1u2</td>\n      <td>2018</td>\n      <td>330</td>\n      <td>0</td>\n      <td>1.000000</td>\n      <td>1</td>\n      <td>0</td>\n      <td>1</td>\n      <td>4.409699e+07</td>\n      <td>white</td>\n    </tr>\n    <tr>\n      <th>2916694</th>\n      <td>1KYiKJEfdJtap9QX2v9BXJMpz2SfU4pgZw</td>\n      <td>2018</td>\n      <td>330</td>\n      <td>2</td>\n      <td>12.000000</td>\n      <td>6</td>\n      <td>6</td>\n      <td>35</td>\n      <td>2.398267e+09</td>\n      <td>white</td>\n    </tr>\n    <tr>\n      <th>2916695</th>\n      <td>15iPUJsRNZQZHmZZVwmQ63srsmughCXV4a</td>\n      <td>2018</td>\n      <td>330</td>\n      <td>0</td>\n      <td>0.500000</td>\n      <td>1</td>\n      <td>0</td>\n      <td>1</td>\n      <td>1.780427e+08</td>\n      <td>white</td>\n    </tr>\n    <tr>\n      <th>2916696</th>\n      <td>3LFFBxp15h9KSFtaw55np8eP5fv6kdK17e</td>\n      <td>2018</td>\n      <td>330</td>\n      <td>144</td>\n      <td>0.073972</td>\n      <td>6800</td>\n      <td>0</td>\n      <td>2</td>\n      <td>1.123500e+08</td>\n      <td>white</td>\n    </tr>\n  </tbody>\n</table>\n<p>2916697 rows × 10 columns</p>\n</div>"
     },
     "metadata": {},
     "execution_count": 6
    }
   ],
   "source": [
    "import numpy as np\n",
    "import pandas as pd\n",
    "import matplotlib.pyplot as plt\n",
    "import math\n",
    "# import os\n",
    "\n",
    "\n",
    "# print(os.listdir())\n",
    "dataset = pd.read_csv(\"../datasets/BitcoinHeistData.csv\")\n",
    "dataset"
   ]
  },
  {
   "cell_type": "code",
   "execution_count": 15,
   "metadata": {},
   "outputs": [
    {
     "output_type": "execute_result",
     "data": {
      "text/plain": [
       "             year         day      length      weight       count      looped  \\\n",
       "count  2916697.00  2916697.00  2916697.00  2916697.00  2916697.00  2916697.00   \n",
       "mean      2014.48      181.46       45.01        0.55      721.64      238.51   \n",
       "std          2.26      104.01       58.98        3.67     1689.68      966.32   \n",
       "min       2011.00        1.00        0.00        0.00        1.00        0.00   \n",
       "25%       2013.00       92.00        2.00        0.02        1.00        0.00   \n",
       "50%       2014.00      181.00        8.00        0.25        1.00        0.00   \n",
       "75%       2016.00      271.00      108.00        0.88       56.00        0.00   \n",
       "max       2018.00      365.00      144.00     1943.75    14497.00    14496.00   \n",
       "\n",
       "        neighbors             income  \n",
       "count  2916697.00         2916697.00  \n",
       "mean         2.21      4464889007.19  \n",
       "std         17.92    162685960669.35  \n",
       "min          1.00        30000000.00  \n",
       "25%          1.00        74285590.00  \n",
       "50%          2.00       199998518.00  \n",
       "75%          2.00       994000000.00  \n",
       "max      12920.00  49964398238996.00  "
      ],
      "text/html": "<div>\n<style scoped>\n    .dataframe tbody tr th:only-of-type {\n        vertical-align: middle;\n    }\n\n    .dataframe tbody tr th {\n        vertical-align: top;\n    }\n\n    .dataframe thead th {\n        text-align: right;\n    }\n</style>\n<table border=\"1\" class=\"dataframe\">\n  <thead>\n    <tr style=\"text-align: right;\">\n      <th></th>\n      <th>year</th>\n      <th>day</th>\n      <th>length</th>\n      <th>weight</th>\n      <th>count</th>\n      <th>looped</th>\n      <th>neighbors</th>\n      <th>income</th>\n    </tr>\n  </thead>\n  <tbody>\n    <tr>\n      <th>count</th>\n      <td>2916697.00</td>\n      <td>2916697.00</td>\n      <td>2916697.00</td>\n      <td>2916697.00</td>\n      <td>2916697.00</td>\n      <td>2916697.00</td>\n      <td>2916697.00</td>\n      <td>2916697.00</td>\n    </tr>\n    <tr>\n      <th>mean</th>\n      <td>2014.48</td>\n      <td>181.46</td>\n      <td>45.01</td>\n      <td>0.55</td>\n      <td>721.64</td>\n      <td>238.51</td>\n      <td>2.21</td>\n      <td>4464889007.19</td>\n    </tr>\n    <tr>\n      <th>std</th>\n      <td>2.26</td>\n      <td>104.01</td>\n      <td>58.98</td>\n      <td>3.67</td>\n      <td>1689.68</td>\n      <td>966.32</td>\n      <td>17.92</td>\n      <td>162685960669.35</td>\n    </tr>\n    <tr>\n      <th>min</th>\n      <td>2011.00</td>\n      <td>1.00</td>\n      <td>0.00</td>\n      <td>0.00</td>\n      <td>1.00</td>\n      <td>0.00</td>\n      <td>1.00</td>\n      <td>30000000.00</td>\n    </tr>\n    <tr>\n      <th>25%</th>\n      <td>2013.00</td>\n      <td>92.00</td>\n      <td>2.00</td>\n      <td>0.02</td>\n      <td>1.00</td>\n      <td>0.00</td>\n      <td>1.00</td>\n      <td>74285590.00</td>\n    </tr>\n    <tr>\n      <th>50%</th>\n      <td>2014.00</td>\n      <td>181.00</td>\n      <td>8.00</td>\n      <td>0.25</td>\n      <td>1.00</td>\n      <td>0.00</td>\n      <td>2.00</td>\n      <td>199998518.00</td>\n    </tr>\n    <tr>\n      <th>75%</th>\n      <td>2016.00</td>\n      <td>271.00</td>\n      <td>108.00</td>\n      <td>0.88</td>\n      <td>56.00</td>\n      <td>0.00</td>\n      <td>2.00</td>\n      <td>994000000.00</td>\n    </tr>\n    <tr>\n      <th>max</th>\n      <td>2018.00</td>\n      <td>365.00</td>\n      <td>144.00</td>\n      <td>1943.75</td>\n      <td>14497.00</td>\n      <td>14496.00</td>\n      <td>12920.00</td>\n      <td>49964398238996.00</td>\n    </tr>\n  </tbody>\n</table>\n</div>"
     },
     "metadata": {},
     "execution_count": 15
    }
   ],
   "source": [
    "# some basic statistics about the dataset's numeric values\r\n",
    "dataset.describe().apply(lambda s: s.apply('{0:.2f}'.format))"
   ]
  },
  {
   "cell_type": "code",
   "execution_count": 16,
   "metadata": {},
   "outputs": [
    {
     "output_type": "execute_result",
     "data": {
      "text/plain": [
       "                                   address    label\n",
       "count                              2916697  2916697\n",
       "unique                             2631095       29\n",
       "top     1LXrSb67EaH1LGc6d6kWHq8rgv4ZBQAcpU    white\n",
       "freq                                   420  2875284"
      ],
      "text/html": "<div>\n<style scoped>\n    .dataframe tbody tr th:only-of-type {\n        vertical-align: middle;\n    }\n\n    .dataframe tbody tr th {\n        vertical-align: top;\n    }\n\n    .dataframe thead th {\n        text-align: right;\n    }\n</style>\n<table border=\"1\" class=\"dataframe\">\n  <thead>\n    <tr style=\"text-align: right;\">\n      <th></th>\n      <th>address</th>\n      <th>label</th>\n    </tr>\n  </thead>\n  <tbody>\n    <tr>\n      <th>count</th>\n      <td>2916697</td>\n      <td>2916697</td>\n    </tr>\n    <tr>\n      <th>unique</th>\n      <td>2631095</td>\n      <td>29</td>\n    </tr>\n    <tr>\n      <th>top</th>\n      <td>1LXrSb67EaH1LGc6d6kWHq8rgv4ZBQAcpU</td>\n      <td>white</td>\n    </tr>\n    <tr>\n      <th>freq</th>\n      <td>420</td>\n      <td>2875284</td>\n    </tr>\n  </tbody>\n</table>\n</div>"
     },
     "metadata": {},
     "execution_count": 16
    }
   ],
   "source": [
    "# statistics about string values in the dataset\n",
    "dataset.describe(include=object)\n"
   ]
  },
  {
   "cell_type": "code",
   "execution_count": 17,
   "metadata": {},
   "outputs": [
    {
     "output_type": "execute_result",
     "data": {
      "text/plain": [
       "1LXrSb67EaH1LGc6d6kWHq8rgv4ZBQAcpU    420\n",
       "16cVG72goMe4sNqZhnpmnqfCMZ1uSFbUit    261\n",
       "12wQZTDmA8onM3sEt4jwcvzDxnNXxD8Vza    207\n",
       "12YursV58dRT2c9iuZg3jEWfwgTDamBcnd    183\n",
       "1LEq4WmpCrqBd7V3PywE2nvFUFC3QTe52x    176\n",
       "                                     ... \n",
       "125i4zJmnRJL9fuETAet1kHHEtwrSgNMHS      1\n",
       "1BGePYrm47wavizJsCVYQXxtFiqsGYw6GA      1\n",
       "3DUiE8cZzKHgckZj8TnBPaHVox6CqPzXPM      1\n",
       "1MLikbCXzjL9nDWegNvXux9hV2SjjRrz6h      1\n",
       "1HKvQzPsUEevS8dqSqPL7DxHcwD7eMV7XL      1\n",
       "Name: address, Length: 2631095, dtype: int64"
      ]
     },
     "metadata": {},
     "execution_count": 17
    }
   ],
   "source": [
    "# number of appearances of each unique address in the dataset\n",
    "dataset[\"address\"].value_counts()"
   ]
  },
  {
   "cell_type": "code",
   "execution_count": 25,
   "metadata": {},
   "outputs": [
    {
     "output_type": "execute_result",
     "data": {
      "text/plain": [
       "184    2\n",
       "119    2\n",
       "145    2\n",
       "143    2\n",
       "142    2\n",
       "      ..\n",
       "248    1\n",
       "249    1\n",
       "250    1\n",
       "251    1\n",
       "1      1\n",
       "Name: day, Length: 356, dtype: int64"
      ]
     },
     "metadata": {},
     "execution_count": 25
    }
   ],
   "source": [
    "# exploring the most frequent address in the dataset\r\n",
    "# number of transactions per day\r\n",
    "dataset.loc[dataset[\"address\"] == \"1LXrSb67EaH1LGc6d6kWHq8rgv4ZBQAcpU\", \"day\"].value_counts()"
   ]
  },
  {
   "cell_type": "code",
   "execution_count": 26,
   "metadata": {},
   "outputs": [
    {
     "output_type": "error",
     "ename": "KeyError",
     "evalue": "('year', 'day')",
     "traceback": [
      "\u001b[1;31m---------------------------------------------------------------------------\u001b[0m",
      "\u001b[1;31mKeyError\u001b[0m                                  Traceback (most recent call last)",
      "\u001b[1;32m~\\.conda\\envs\\MACHINE LEARNING\\lib\\site-packages\\pandas\\core\\indexes\\base.py\u001b[0m in \u001b[0;36mget_loc\u001b[1;34m(self, key, method, tolerance)\u001b[0m\n\u001b[0;32m   2645\u001b[0m             \u001b[1;32mtry\u001b[0m\u001b[1;33m:\u001b[0m\u001b[1;33m\u001b[0m\u001b[0m\n\u001b[1;32m-> 2646\u001b[1;33m                 \u001b[1;32mreturn\u001b[0m \u001b[0mself\u001b[0m\u001b[1;33m.\u001b[0m\u001b[0m_engine\u001b[0m\u001b[1;33m.\u001b[0m\u001b[0mget_loc\u001b[0m\u001b[1;33m(\u001b[0m\u001b[0mkey\u001b[0m\u001b[1;33m)\u001b[0m\u001b[1;33m\u001b[0m\u001b[0m\n\u001b[0m\u001b[0;32m   2647\u001b[0m             \u001b[1;32mexcept\u001b[0m \u001b[0mKeyError\u001b[0m\u001b[1;33m:\u001b[0m\u001b[1;33m\u001b[0m\u001b[0m\n",
      "\u001b[1;32mpandas\\_libs\\index.pyx\u001b[0m in \u001b[0;36mpandas._libs.index.IndexEngine.get_loc\u001b[1;34m()\u001b[0m\n",
      "\u001b[1;32mpandas\\_libs\\index.pyx\u001b[0m in \u001b[0;36mpandas._libs.index.IndexEngine.get_loc\u001b[1;34m()\u001b[0m\n",
      "\u001b[1;32mpandas\\_libs\\hashtable_class_helper.pxi\u001b[0m in \u001b[0;36mpandas._libs.hashtable.PyObjectHashTable.get_item\u001b[1;34m()\u001b[0m\n",
      "\u001b[1;32mpandas\\_libs\\hashtable_class_helper.pxi\u001b[0m in \u001b[0;36mpandas._libs.hashtable.PyObjectHashTable.get_item\u001b[1;34m()\u001b[0m\n",
      "\u001b[1;31mKeyError\u001b[0m: ('year', 'day')",
      "\nDuring handling of the above exception, another exception occurred:\n",
      "\u001b[1;31mKeyError\u001b[0m                                  Traceback (most recent call last)",
      "\u001b[1;32m<ipython-input-26-e1586691dd42>\u001b[0m in \u001b[0;36m<module>\u001b[1;34m\u001b[0m\n\u001b[0;32m      1\u001b[0m \u001b[0mget_ipython\u001b[0m\u001b[1;33m(\u001b[0m\u001b[1;33m)\u001b[0m\u001b[1;33m.\u001b[0m\u001b[0mrun_line_magic\u001b[0m\u001b[1;33m(\u001b[0m\u001b[1;34m'matplotlib'\u001b[0m\u001b[1;33m,\u001b[0m \u001b[1;34m'inline'\u001b[0m\u001b[1;33m)\u001b[0m\u001b[1;33m\u001b[0m\u001b[0m\n\u001b[0;32m      2\u001b[0m \u001b[1;33m\u001b[0m\u001b[0m\n\u001b[1;32m----> 3\u001b[1;33m \u001b[0mdataset\u001b[0m\u001b[1;33m[\u001b[0m\u001b[1;34m\"year\"\u001b[0m\u001b[1;33m,\u001b[0m\u001b[1;34m\"day\"\u001b[0m\u001b[1;33m]\u001b[0m\u001b[1;33m.\u001b[0m\u001b[0mvalue_counts\u001b[0m\u001b[1;33m(\u001b[0m\u001b[1;33m)\u001b[0m\u001b[1;33m\u001b[0m\u001b[0m\n\u001b[0m",
      "\u001b[1;32m~\\.conda\\envs\\MACHINE LEARNING\\lib\\site-packages\\pandas\\core\\frame.py\u001b[0m in \u001b[0;36m__getitem__\u001b[1;34m(self, key)\u001b[0m\n\u001b[0;32m   2798\u001b[0m             \u001b[1;32mif\u001b[0m \u001b[0mself\u001b[0m\u001b[1;33m.\u001b[0m\u001b[0mcolumns\u001b[0m\u001b[1;33m.\u001b[0m\u001b[0mnlevels\u001b[0m \u001b[1;33m>\u001b[0m \u001b[1;36m1\u001b[0m\u001b[1;33m:\u001b[0m\u001b[1;33m\u001b[0m\u001b[0m\n\u001b[0;32m   2799\u001b[0m                 \u001b[1;32mreturn\u001b[0m \u001b[0mself\u001b[0m\u001b[1;33m.\u001b[0m\u001b[0m_getitem_multilevel\u001b[0m\u001b[1;33m(\u001b[0m\u001b[0mkey\u001b[0m\u001b[1;33m)\u001b[0m\u001b[1;33m\u001b[0m\u001b[0m\n\u001b[1;32m-> 2800\u001b[1;33m             \u001b[0mindexer\u001b[0m \u001b[1;33m=\u001b[0m \u001b[0mself\u001b[0m\u001b[1;33m.\u001b[0m\u001b[0mcolumns\u001b[0m\u001b[1;33m.\u001b[0m\u001b[0mget_loc\u001b[0m\u001b[1;33m(\u001b[0m\u001b[0mkey\u001b[0m\u001b[1;33m)\u001b[0m\u001b[1;33m\u001b[0m\u001b[0m\n\u001b[0m\u001b[0;32m   2801\u001b[0m             \u001b[1;32mif\u001b[0m \u001b[0mis_integer\u001b[0m\u001b[1;33m(\u001b[0m\u001b[0mindexer\u001b[0m\u001b[1;33m)\u001b[0m\u001b[1;33m:\u001b[0m\u001b[1;33m\u001b[0m\u001b[0m\n\u001b[0;32m   2802\u001b[0m                 \u001b[0mindexer\u001b[0m \u001b[1;33m=\u001b[0m \u001b[1;33m[\u001b[0m\u001b[0mindexer\u001b[0m\u001b[1;33m]\u001b[0m\u001b[1;33m\u001b[0m\u001b[0m\n",
      "\u001b[1;32m~\\.conda\\envs\\MACHINE LEARNING\\lib\\site-packages\\pandas\\core\\indexes\\base.py\u001b[0m in \u001b[0;36mget_loc\u001b[1;34m(self, key, method, tolerance)\u001b[0m\n\u001b[0;32m   2646\u001b[0m                 \u001b[1;32mreturn\u001b[0m \u001b[0mself\u001b[0m\u001b[1;33m.\u001b[0m\u001b[0m_engine\u001b[0m\u001b[1;33m.\u001b[0m\u001b[0mget_loc\u001b[0m\u001b[1;33m(\u001b[0m\u001b[0mkey\u001b[0m\u001b[1;33m)\u001b[0m\u001b[1;33m\u001b[0m\u001b[0m\n\u001b[0;32m   2647\u001b[0m             \u001b[1;32mexcept\u001b[0m \u001b[0mKeyError\u001b[0m\u001b[1;33m:\u001b[0m\u001b[1;33m\u001b[0m\u001b[0m\n\u001b[1;32m-> 2648\u001b[1;33m                 \u001b[1;32mreturn\u001b[0m \u001b[0mself\u001b[0m\u001b[1;33m.\u001b[0m\u001b[0m_engine\u001b[0m\u001b[1;33m.\u001b[0m\u001b[0mget_loc\u001b[0m\u001b[1;33m(\u001b[0m\u001b[0mself\u001b[0m\u001b[1;33m.\u001b[0m\u001b[0m_maybe_cast_indexer\u001b[0m\u001b[1;33m(\u001b[0m\u001b[0mkey\u001b[0m\u001b[1;33m)\u001b[0m\u001b[1;33m)\u001b[0m\u001b[1;33m\u001b[0m\u001b[0m\n\u001b[0m\u001b[0;32m   2649\u001b[0m         \u001b[0mindexer\u001b[0m \u001b[1;33m=\u001b[0m \u001b[0mself\u001b[0m\u001b[1;33m.\u001b[0m\u001b[0mget_indexer\u001b[0m\u001b[1;33m(\u001b[0m\u001b[1;33m[\u001b[0m\u001b[0mkey\u001b[0m\u001b[1;33m]\u001b[0m\u001b[1;33m,\u001b[0m \u001b[0mmethod\u001b[0m\u001b[1;33m=\u001b[0m\u001b[0mmethod\u001b[0m\u001b[1;33m,\u001b[0m \u001b[0mtolerance\u001b[0m\u001b[1;33m=\u001b[0m\u001b[0mtolerance\u001b[0m\u001b[1;33m)\u001b[0m\u001b[1;33m\u001b[0m\u001b[0m\n\u001b[0;32m   2650\u001b[0m         \u001b[1;32mif\u001b[0m \u001b[0mindexer\u001b[0m\u001b[1;33m.\u001b[0m\u001b[0mndim\u001b[0m \u001b[1;33m>\u001b[0m \u001b[1;36m1\u001b[0m \u001b[1;32mor\u001b[0m \u001b[0mindexer\u001b[0m\u001b[1;33m.\u001b[0m\u001b[0msize\u001b[0m \u001b[1;33m>\u001b[0m \u001b[1;36m1\u001b[0m\u001b[1;33m:\u001b[0m\u001b[1;33m\u001b[0m\u001b[0m\n",
      "\u001b[1;32mpandas\\_libs\\index.pyx\u001b[0m in \u001b[0;36mpandas._libs.index.IndexEngine.get_loc\u001b[1;34m()\u001b[0m\n",
      "\u001b[1;32mpandas\\_libs\\index.pyx\u001b[0m in \u001b[0;36mpandas._libs.index.IndexEngine.get_loc\u001b[1;34m()\u001b[0m\n",
      "\u001b[1;32mpandas\\_libs\\hashtable_class_helper.pxi\u001b[0m in \u001b[0;36mpandas._libs.hashtable.PyObjectHashTable.get_item\u001b[1;34m()\u001b[0m\n",
      "\u001b[1;32mpandas\\_libs\\hashtable_class_helper.pxi\u001b[0m in \u001b[0;36mpandas._libs.hashtable.PyObjectHashTable.get_item\u001b[1;34m()\u001b[0m\n",
      "\u001b[1;31mKeyError\u001b[0m: ('year', 'day')"
     ]
    }
   ],
   "source": [
    "%matplotlib inline\n",
    "\n",
    "dataset[\"year\",\"day\"].value_counts()"
   ]
  },
  {
   "cell_type": "code",
   "execution_count": null,
   "metadata": {},
   "outputs": [],
   "source": []
  }
 ]
}
